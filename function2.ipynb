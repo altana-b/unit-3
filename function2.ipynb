{
 "cells": [
  {
   "cell_type": "code",
   "execution_count": 12,
   "id": "338294a4",
   "metadata": {},
   "outputs": [],
   "source": [
    "def solve_quadratic(a,b,c):\n",
    "    if (b**2-4*a*c)<0:\n",
    "        return None\n",
    "    elif (b**2-4*a*c)==0:\n",
    "        return -b/2*a\n",
    "    else:\n",
    "        return(-b+((b**2-4*a*c)**(0.5)))/(2*a),(-b-((b**2-4*a*c)**(0.5)))/(2*a)"
   ]
  },
  {
   "cell_type": "code",
   "execution_count": 13,
   "id": "189a494a",
   "metadata": {},
   "outputs": [
    {
     "data": {
      "text/plain": [
       "(3.0, 2.0)"
      ]
     },
     "execution_count": 13,
     "metadata": {},
     "output_type": "execute_result"
    }
   ],
   "source": [
    "solve_quadratic(1,-5,6)"
   ]
  },
  {
   "cell_type": "code",
   "execution_count": 14,
   "id": "f6c719f7",
   "metadata": {},
   "outputs": [
    {
     "data": {
      "text/plain": [
       "-2.0"
      ]
     },
     "execution_count": 14,
     "metadata": {},
     "output_type": "execute_result"
    }
   ],
   "source": [
    "solve_quadratic(1,4,4)"
   ]
  },
  {
   "cell_type": "code",
   "execution_count": 15,
   "id": "520191b3",
   "metadata": {},
   "outputs": [],
   "source": [
    "solve_quadratic(1,0,1)"
   ]
  }
 ],
 "metadata": {
  "kernelspec": {
   "display_name": "Python 3 (ipykernel)",
   "language": "python",
   "name": "python3"
  },
  "language_info": {
   "codemirror_mode": {
    "name": "ipython",
    "version": 3
   },
   "file_extension": ".py",
   "mimetype": "text/x-python",
   "name": "python",
   "nbconvert_exporter": "python",
   "pygments_lexer": "ipython3",
   "version": "3.9.7"
  }
 },
 "nbformat": 4,
 "nbformat_minor": 5
}
