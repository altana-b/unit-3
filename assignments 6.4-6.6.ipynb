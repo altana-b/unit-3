{
 "cells": [
  {
   "cell_type": "markdown",
   "id": "e754f08e",
   "metadata": {},
   "source": [
    "# Assignment 6.4"
   ]
  },
  {
   "cell_type": "code",
   "execution_count": 46,
   "id": "80b60937",
   "metadata": {},
   "outputs": [],
   "source": [
    "def my_range (m,n):\n",
    "    l = [m, n]\n",
    "    output = [m]\n",
    "    for m in l:\n",
    "        while m+1<n:\n",
    "            m = m + 1\n",
    "            output.append(m)\n",
    "    print(output)"
   ]
  },
  {
   "cell_type": "code",
   "execution_count": 51,
   "id": "141c1f13",
   "metadata": {},
   "outputs": [],
   "source": [
    "def my_range_v2 (m,n):\n",
    "    l = [m, n]\n",
    "    output = []\n",
    "    for m in l:\n",
    "        while m<n:\n",
    "            output.append(m)\n",
    "            m+=1\n",
    "    print(output)"
   ]
  },
  {
   "cell_type": "code",
   "execution_count": 52,
   "id": "e71a8907",
   "metadata": {},
   "outputs": [
    {
     "name": "stdout",
     "output_type": "stream",
     "text": [
      "[3, 4, 5, 6, 7, 8, 9]\n"
     ]
    }
   ],
   "source": [
    "my_range(3,10)"
   ]
  },
  {
   "cell_type": "code",
   "execution_count": 53,
   "id": "be7f740c",
   "metadata": {},
   "outputs": [
    {
     "name": "stdout",
     "output_type": "stream",
     "text": [
      "[3, 4, 5, 6, 7, 8, 9]\n"
     ]
    }
   ],
   "source": [
    "my_range_v2(3,10)"
   ]
  },
  {
   "cell_type": "code",
   "execution_count": 48,
   "id": "1707afea",
   "metadata": {},
   "outputs": [
    {
     "data": {
      "text/plain": [
       "[3, 4, 5, 6, 7, 8, 9]"
      ]
     },
     "execution_count": 48,
     "metadata": {},
     "output_type": "execute_result"
    }
   ],
   "source": [
    "list(range(3,10))"
   ]
  },
  {
   "cell_type": "markdown",
   "id": "8be1a77b",
   "metadata": {},
   "source": [
    "# Assignment 6.5"
   ]
  },
  {
   "cell_type": "code",
   "execution_count": 181,
   "id": "792a22a6",
   "metadata": {},
   "outputs": [],
   "source": [
    "d={0:'0', 1:'1',2:'2',3:'3',4:'4',5:'5',6:'6',7:'7',8:'8',9:'9', 10:'a',11:'b',12:'c',13:'d',14:'e',15:'f'}"
   ]
  },
  {
   "cell_type": "code",
   "execution_count": 199,
   "id": "11c7046c",
   "metadata": {},
   "outputs": [],
   "source": [
    "def to_hex(n):\n",
    "    result = n // 16\n",
    "    remainder = n % 16\n",
    "    output=[remainder]\n",
    "    while result>0:\n",
    "        remainder = result % 16\n",
    "        result = result // 16\n",
    "        output.append(remainder)\n",
    "    output.reverse()\n",
    "    if len(output)==1:\n",
    "        return d[output[0]]\n",
    "    else:\n",
    "        return d[output[0]]+d[output[1]]"
   ]
  },
  {
   "cell_type": "code",
   "execution_count": 200,
   "id": "1d8455df",
   "metadata": {},
   "outputs": [
    {
     "data": {
      "text/plain": [
       "'0'"
      ]
     },
     "execution_count": 200,
     "metadata": {},
     "output_type": "execute_result"
    }
   ],
   "source": [
    "to_hex(0)"
   ]
  },
  {
   "cell_type": "code",
   "execution_count": 201,
   "id": "622f1bf8",
   "metadata": {},
   "outputs": [
    {
     "data": {
      "text/plain": [
       "'a'"
      ]
     },
     "execution_count": 201,
     "metadata": {},
     "output_type": "execute_result"
    }
   ],
   "source": [
    "to_hex(10)"
   ]
  },
  {
   "cell_type": "code",
   "execution_count": 202,
   "id": "983406a8",
   "metadata": {},
   "outputs": [
    {
     "data": {
      "text/plain": [
       "'20'"
      ]
     },
     "execution_count": 202,
     "metadata": {},
     "output_type": "execute_result"
    }
   ],
   "source": [
    "to_hex(32)"
   ]
  },
  {
   "cell_type": "code",
   "execution_count": 203,
   "id": "90d0c3f0",
   "metadata": {},
   "outputs": [
    {
     "data": {
      "text/plain": [
       "'2d'"
      ]
     },
     "execution_count": 203,
     "metadata": {},
     "output_type": "execute_result"
    }
   ],
   "source": [
    "to_hex(45)"
   ]
  },
  {
   "cell_type": "code",
   "execution_count": 224,
   "id": "331f3405",
   "metadata": {},
   "outputs": [],
   "source": [
    "def hex_color(red,green,blue):\n",
    "    c1=to_hex(red)\n",
    "    c2=to_hex(green)\n",
    "    c3=to_hex(blue)\n",
    "    if to_hex(red) in ('a','b','c','d','e','f'):\n",
    "        c1='0'+c1\n",
    "        return '#'+c1+c2+c3\n",
    "    elif to_hex(green) in ('a','b','c','d','e','f'):\n",
    "        c2='0'+c2\n",
    "        return '#'+c1+c2+c3\n",
    "    elif to_hex(blue) in ('a','b','c','d','e','f'):\n",
    "        c3='0'+c3\n",
    "        return '#'+c1+c2+c3\n",
    "    else:\n",
    "        return '#'+c1+c2+c3"
   ]
  },
  {
   "cell_type": "code",
   "execution_count": 225,
   "id": "48d1f657",
   "metadata": {},
   "outputs": [
    {
     "data": {
      "text/plain": [
       "'#0a20ff'"
      ]
     },
     "execution_count": 225,
     "metadata": {},
     "output_type": "execute_result"
    }
   ],
   "source": [
    "hex_color(10,32,255)"
   ]
  },
  {
   "cell_type": "markdown",
   "id": "010d4820",
   "metadata": {},
   "source": [
    "# Assignment 6.6"
   ]
  },
  {
   "cell_type": "code",
   "execution_count": 226,
   "id": "7e45800a",
   "metadata": {},
   "outputs": [],
   "source": [
    "l=[1,2,3,4,5]"
   ]
  },
  {
   "cell_type": "code",
   "execution_count": 265,
   "id": "7b295ef3",
   "metadata": {},
   "outputs": [],
   "source": [
    "def my_reverse(l):\n",
    "    i=len(l)-1\n",
    "    output=[]\n",
    "    while i>=0:\n",
    "        output.append(l[i])\n",
    "        i=i-1\n",
    "    return output"
   ]
  },
  {
   "cell_type": "code",
   "execution_count": 267,
   "id": "e2d3dbed",
   "metadata": {},
   "outputs": [
    {
     "data": {
      "text/plain": [
       "[5, 4, 3, 2, 1]"
      ]
     },
     "execution_count": 267,
     "metadata": {},
     "output_type": "execute_result"
    }
   ],
   "source": [
    "my_reverse(l)"
   ]
  },
  {
   "cell_type": "code",
   "execution_count": 268,
   "id": "86e77ac1",
   "metadata": {},
   "outputs": [
    {
     "data": {
      "text/plain": [
       "[5, 4, 3, 2, 1]"
      ]
     },
     "execution_count": 268,
     "metadata": {},
     "output_type": "execute_result"
    }
   ],
   "source": [
    "list(reversed(l))"
   ]
  }
 ],
 "metadata": {
  "kernelspec": {
   "display_name": "Python 3 (ipykernel)",
   "language": "python",
   "name": "python3"
  },
  "language_info": {
   "codemirror_mode": {
    "name": "ipython",
    "version": 3
   },
   "file_extension": ".py",
   "mimetype": "text/x-python",
   "name": "python",
   "nbconvert_exporter": "python",
   "pygments_lexer": "ipython3",
   "version": "3.9.7"
  }
 },
 "nbformat": 4,
 "nbformat_minor": 5
}
